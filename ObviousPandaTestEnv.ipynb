{
  "nbformat": 4,
  "nbformat_minor": 0,
  "metadata": {
    "colab": {
      "provenance": [],
      "authorship_tag": "ABX9TyPfP1NoUNPpoMZ9QZAUCSYa",
      "include_colab_link": true
    },
    "kernelspec": {
      "name": "python3",
      "display_name": "Python 3"
    },
    "language_info": {
      "name": "python"
    }
  },
  "cells": [
    {
      "cell_type": "markdown",
      "metadata": {
        "id": "view-in-github",
        "colab_type": "text"
      },
      "source": [
        "<a href=\"https://colab.research.google.com/github/zacandcheese/obviouspanda/blob/main/ObviousPandaTestEnv.ipynb\" target=\"_parent\"><img src=\"https://colab.research.google.com/assets/colab-badge.svg\" alt=\"Open In Colab\"/></a>"
      ]
    },
    {
      "cell_type": "markdown",
      "source": [
        "# Welcome to ObviousPanda\n",
        "---\n",
        "\\*insert what we do here \\*\n",
        "\n",
        "### How this Test Bed works?\n",
        "1. Select Your Test  \n",
        " - t1: a test\n",
        " - t2: a test\n",
        "2. Choose Your Model\n",
        "3. Record Results "
      ],
      "metadata": {
        "id": "XrEOBI3ro9rK"
      }
    },
    {
      "cell_type": "code",
      "execution_count": null,
      "metadata": {
        "id": "F5Lh9Kluo4io"
      },
      "outputs": [],
      "source": []
    }
  ]
}